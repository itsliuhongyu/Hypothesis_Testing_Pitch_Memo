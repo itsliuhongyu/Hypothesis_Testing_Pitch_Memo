{
 "cells": [
  {
   "cell_type": "code",
   "execution_count": 1,
   "id": "8d4019d0",
   "metadata": {},
   "outputs": [],
   "source": [
    "%load_ext rpy2.ipython\n",
    "%load_ext autoreload\n",
    "%autoreload 2\n",
    "\n",
    "%matplotlib inline  \n",
    "from matplotlib import rcParams\n",
    "rcParams['figure.figsize'] = (16, 100)\n",
    "\n",
    "import warnings\n",
    "from rpy2.rinterface import RRuntimeWarning\n",
    "warnings.filterwarnings(\"ignore\") # Ignore all warnings\n",
    "# warnings.filterwarnings(\"ignore\", category=RRuntimeWarning) # Show some warnings\n",
    "\n",
    "import pandas as pd\n",
    "import numpy as np\n",
    "import matplotlib.pyplot as plt\n",
    "from IPython.display import display, HTML"
   ]
  },
  {
   "cell_type": "code",
   "execution_count": 2,
   "id": "3dd9b517",
   "metadata": {},
   "outputs": [
    {
     "data": {
      "application/javascript": [
       "// Disable auto-scrolling\n",
       "IPython.OutputArea.prototype._should_scroll = function(lines) {\n",
       "    return false;\n",
       "}\n"
      ],
      "text/plain": [
       "<IPython.core.display.Javascript object>"
      ]
     },
     "metadata": {},
     "output_type": "display_data"
    }
   ],
   "source": [
    "%%javascript\n",
    "// Disable auto-scrolling\n",
    "IPython.OutputArea.prototype._should_scroll = function(lines) {\n",
    "    return false;\n",
    "}"
   ]
  },
  {
   "cell_type": "code",
   "execution_count": 3,
   "id": "a367dc5e",
   "metadata": {},
   "outputs": [
    {
     "name": "stderr",
     "output_type": "stream",
     "text": [
      "R[write to console]: Loading required package: tidyverse\n",
      "\n"
     ]
    },
    {
     "name": "stdout",
     "output_type": "stream",
     "text": [
      "── Attaching packages ─────────────────────────────────────── tidyverse 1.3.2 ──\n",
      "✔ ggplot2 3.4.0     ✔ purrr   0.3.5\n",
      "✔ tibble  3.1.8     ✔ dplyr   1.1.0\n",
      "✔ tidyr   1.2.1     ✔ stringr 1.4.1\n",
      "✔ readr   2.1.3     ✔ forcats 0.5.2\n",
      "── Conflicts ────────────────────────────────────────── tidyverse_conflicts() ──\n",
      "✖ dplyr::filter() masks stats::filter()\n",
      "✖ dplyr::lag()    masks stats::lag()\n"
     ]
    },
    {
     "name": "stderr",
     "output_type": "stream",
     "text": [
      "R[write to console]: Loading required package: timechange\n",
      "\n",
      "R[write to console]: \n",
      "Attaching package: ‘lubridate’\n",
      "\n",
      "\n",
      "R[write to console]: The following objects are masked from ‘package:base’:\n",
      "\n",
      "    date, intersect, setdiff, union\n",
      "\n",
      "\n"
     ]
    }
   ],
   "source": [
    "%%R\n",
    "\n",
    "# My commonly used R imports\n",
    "\n",
    "require('tidyverse')\n",
    "library(dplyr)\n",
    "library(lubridate)\n",
    "library(ggbump)\n",
    "library(ggbeeswarm)"
   ]
  },
  {
   "cell_type": "markdown",
   "id": "9a907220",
   "metadata": {},
   "source": [
    "# Introduction\n",
    "\n",
    "This is a hypothesis testing practice for my [NYC road salt story](https://itsliuhongyu.github.io/New_York_Salt/)\n",
    "\n",
    "The data analyzes below includes:\n",
    "\n",
    "1. [NOAA](https://www.ncei.noaa.gov/) Central Park snowfall data\n",
    "\n",
    "2. [DSNY Salt Usage](https://data.cityofnewyork.us/City-Government/DSNY-Salt-Usage/tavr-zknk) database provided by Open Data NYC.\n",
    "\n",
    "\n",
    "Our analysis range from 2016 to 2022, as it is the longest time frame the data is provided."
   ]
  },
  {
   "cell_type": "markdown",
   "id": "264dcab3",
   "metadata": {},
   "source": [
    "# Import snow and salt data"
   ]
  },
  {
   "cell_type": "code",
   "execution_count": 4,
   "id": "f641611d",
   "metadata": {},
   "outputs": [
    {
     "name": "stdout",
     "output_type": "stream",
     "text": [
      "# A tibble: 4 × 8\n",
      "  `DSNY Storm #` `Date of Report` Manhattan Bronx Brook…¹ Queens State…² Total…³\n",
      "  <chr>          <date>               <dbl> <dbl>   <dbl>  <dbl>   <dbl>   <dbl>\n",
      "1 Storm 1        2016-01-19            1111  2059    2690   6625    2931   15416\n",
      "2 Storm 2        2016-01-23            2919  4567    5521   9253    4264   26524\n",
      "3 Storm 2        2016-01-24            6582  8167   12290  17133    5411   49583\n",
      "4 Storm 2        2016-01-25            3862  4094    6217  10236    1256   25665\n",
      "# … with abbreviated variable names ¹​Brooklyn, ²​`Staten Island`, ³​`Total Tons`\n"
     ]
    }
   ],
   "source": [
    "%%R\n",
    " \n",
    "# Import data with R\n",
    "salt <- read_csv('./data/DSNY_Salt_Usage.csv', show_col_types = FALSE)\n",
    "salt$`Date of Report` <- as.Date(salt$`Date of Report`, format = \"%m/%d/%Y\")\n",
    "salt %>% head(4)"
   ]
  },
  {
   "cell_type": "code",
   "execution_count": 5,
   "id": "e0c97ff1",
   "metadata": {},
   "outputs": [
    {
     "name": "stdout",
     "output_type": "stream",
     "text": [
      "# A tibble: 28 × 2\n",
      "   year_month totalsalt\n",
      "   <chr>          <dbl>\n",
      " 1 2016-01       180259\n",
      " 2 2016-02        72878\n",
      " 3 2016-03        13128\n",
      " 4 2016-12        37754\n",
      " 5 2017-01        85233\n",
      " 6 2017-02       108424\n",
      " 7 2017-03       131780\n",
      " 8 2017-12        93089\n",
      " 9 2018-01       186252\n",
      "10 2018-02        34136\n",
      "# … with 18 more rows\n",
      "# ℹ Use `print(n = ...)` to see more rows\n"
     ]
    }
   ],
   "source": [
    "%%R\n",
    "\n",
    "df_monthly_total <- salt %>%\n",
    "  mutate(year_month = format(`Date of Report`, \"%Y-%m\")) %>%\n",
    "  group_by(year_month) %>%\n",
    "  summarize(totalsalt = sum(`Total Tons`))\n",
    "\n",
    "df_monthly_total"
   ]
  },
  {
   "cell_type": "code",
   "execution_count": 6,
   "id": "107bbf89",
   "metadata": {},
   "outputs": [
    {
     "name": "stdout",
     "output_type": "stream",
     "text": [
      "# A tibble: 4 × 9\n",
      "  STATION     NAME          LATIT…¹ LONGI…² ELEVA…³ DATE        PRCP  SNOW  SNWD\n",
      "  <chr>       <chr>           <dbl>   <dbl>   <dbl> <date>     <dbl> <dbl> <dbl>\n",
      "1 USW00094728 NY CITY CENT…    40.8   -74.0    42.7 2016-01-01     0     0     0\n",
      "2 USW00094728 NY CITY CENT…    40.8   -74.0    42.7 2016-01-02     0     0     0\n",
      "3 USW00094728 NY CITY CENT…    40.8   -74.0    42.7 2016-01-03     0     0     0\n",
      "4 USW00094728 NY CITY CENT…    40.8   -74.0    42.7 2016-01-04     0     0     0\n",
      "# … with abbreviated variable names ¹​LATITUDE, ²​LONGITUDE, ³​ELEVATION\n"
     ]
    }
   ],
   "source": [
    "%%R\n",
    " \n",
    "# Import data with R\n",
    "snow <- read_csv('./data/NYC_snow.csv', show_col_types = FALSE)\n",
    "snow %>% head(4)"
   ]
  },
  {
   "cell_type": "code",
   "execution_count": 7,
   "id": "e5f5b092",
   "metadata": {},
   "outputs": [
    {
     "name": "stdout",
     "output_type": "stream",
     "text": [
      "# A tibble: 75 × 2\n",
      "   year_month totalsnow\n",
      "   <chr>          <dbl>\n",
      " 1 2016-01         27.9\n",
      " 2 2016-02          4  \n",
      " 3 2016-03          0.9\n",
      " 4 2016-04          0  \n",
      " 5 2016-05          0  \n",
      " 6 2016-06          0  \n",
      " 7 2016-07          0  \n",
      " 8 2016-08          0  \n",
      " 9 2016-09          0  \n",
      "10 2016-10          0  \n",
      "# … with 65 more rows\n",
      "# ℹ Use `print(n = ...)` to see more rows\n"
     ]
    }
   ],
   "source": [
    "%%R\n",
    "\n",
    "df_monthly_snow <- snow %>%\n",
    "  mutate(year_month = format(`DATE`, \"%Y-%m\")) %>%\n",
    "  group_by(year_month) %>%\n",
    "  summarize(totalsnow = sum(`SNOW`))\n",
    "\n",
    "df_monthly_snow"
   ]
  },
  {
   "cell_type": "code",
   "execution_count": 8,
   "id": "9789485b",
   "metadata": {},
   "outputs": [
    {
     "name": "stdout",
     "output_type": "stream",
     "text": [
      "# A tibble: 28 × 3\n",
      "   year_month totalsalt totalsnow\n",
      "   <chr>          <dbl>     <dbl>\n",
      " 1 2016-01       180259      27.9\n",
      " 2 2016-02        72878       4  \n",
      " 3 2016-03        13128       0.9\n",
      " 4 2016-12        37754       3.2\n",
      " 5 2017-01        85233       7.9\n",
      " 6 2017-02       108424       9.4\n",
      " 7 2017-03       131780       9.7\n",
      " 8 2017-12        93089       7.7\n",
      " 9 2018-01       186252      11.2\n",
      "10 2018-02        34136       4.9\n",
      "# … with 18 more rows\n",
      "# ℹ Use `print(n = ...)` to see more rows\n"
     ]
    }
   ],
   "source": [
    "%%R\n",
    "\n",
    "df_monthly_combined <- left_join(df_monthly_total, df_monthly_snow, by = \"year_month\")\n",
    "df_monthly_combined"
   ]
  },
  {
   "cell_type": "markdown",
   "id": "f22a0e72",
   "metadata": {},
   "source": [
    "## Question: Does NYC use more tons of salt during months when there is higher depth of snowfall?"
   ]
  },
  {
   "cell_type": "markdown",
   "id": "3ecfd402",
   "metadata": {},
   "source": [
    "### Null Hypothesis: There is no relationship between the total depth of snowfall each month and the total tons of salt dipensed in NYC in the corresponding month.\n",
    "\n",
    "### Alternative Hypothesis: The total tons of salt dispensed in NYC is related to the total depth of snowfall each month."
   ]
  },
  {
   "cell_type": "code",
   "execution_count": 19,
   "id": "eb5f1832",
   "metadata": {},
   "outputs": [
    {
     "data": {
      "image/png": "[encoded data removed]"
     },
     "metadata": {},
     "output_type": "display_data"
    }
   ],
   "source": [
    "%%R -w 800 -h 600\n",
    "\n",
    "ggplot(df_monthly_combined, aes(x=totalsnow, y=totalsalt, ton)) +\n",
    "    geom_point() + \n",
    "    geom_smooth(method='lm', formula= y~x) +\n",
    "    xlab(\"Total snow (inches)\") + \n",
    "    ylab(\"Total salt (ton)\")\n"
   ]
  },
  {
   "cell_type": "code",
   "execution_count": 11,
   "id": "adce64a4",
   "metadata": {},
   "outputs": [
    {
     "name": "stdout",
     "output_type": "stream",
     "text": [
      "\n",
      "Call:\n",
      "lm(formula = totalsalt ~ totalsnow, data = df_monthly_combined)\n",
      "\n",
      "Residuals:\n",
      "   Min     1Q Median     3Q    Max \n",
      "-75009 -31271  -6865  29348 104934 \n",
      "\n",
      "Coefficients:\n",
      "            Estimate Std. Error t value Pr(>|t|)    \n",
      "(Intercept)    34062      11270   3.022  0.00558 ** \n",
      "totalsnow       7928       1165   6.807 3.18e-07 ***\n",
      "---\n",
      "Signif. codes:  0 ‘***’ 0.001 ‘**’ 0.01 ‘*’ 0.05 ‘.’ 0.1 ‘ ’ 1\n",
      "\n",
      "Residual standard error: 43420 on 26 degrees of freedom\n",
      "Multiple R-squared:  0.6406,\tAdjusted R-squared:  0.6267 \n",
      "F-statistic: 46.33 on 1 and 26 DF,  p-value: 3.177e-07\n",
      "\n"
     ]
    }
   ],
   "source": [
    "%%R\n",
    "\n",
    "model <- lm(totalsalt ~ totalsnow, data=df_monthly_combined)\n",
    "\n",
    "summary(model)"
   ]
  },
  {
   "cell_type": "markdown",
   "id": "2e6a14d9",
   "metadata": {},
   "source": [
    "### What can I learn from this statistical test?"
   ]
  },
  {
   "cell_type": "markdown",
   "id": "d9674618",
   "metadata": {},
   "source": [
    "- The P-value is very small. It means that we have relatively high confidence that there is relation between the depth of snowfall and the tons of salt dispensed.\n",
    "- For every 1 more inches of snow in the city, our model expects NYC to dispense 7928 more tons of salt."
   ]
  },
  {
   "cell_type": "markdown",
   "id": "b6f7f1d1",
   "metadata": {},
   "source": [
    "### What can I NOT learn from this statistical test?"
   ]
  },
  {
   "cell_type": "markdown",
   "id": "7a371e01",
   "metadata": {},
   "source": [
    "- The R-Squared shows that about 64% of the data can be explained by this best-fit line, which shows that we are not confident that this model is the best to represent the relationship between the two quantities."
   ]
  },
  {
   "cell_type": "markdown",
   "id": "ee735d0b",
   "metadata": {},
   "source": [
    "### Further reporting questions to answer"
   ]
  },
  {
   "cell_type": "markdown",
   "id": "26fc4878",
   "metadata": {},
   "source": [
    "- How about we narrow down the time bucket to days? Will the city dispensing salt a day before or after the snowfall ruin the relationship?\n",
    "- What about snow forecast and salt dispense? Does forecasting more snow make the city dispensing higher tons of salt?"
   ]
  },
  {
   "cell_type": "markdown",
   "id": "1e2fe36c",
   "metadata": {},
   "source": []
  }
 ],
 "metadata": {
  "kernelspec": {
   "display_name": "Python 3 (ipykernel)",
   "language": "python",
   "name": "python3"
  },
  "language_info": {
   "codemirror_mode": {
    "name": "ipython",
    "version": 3
   },
   "file_extension": ".py",
   "mimetype": "text/x-python",
   "name": "python",
   "nbconvert_exporter": "python",
   "pygments_lexer": "ipython3",
   "version": "3.11.0rc2"
  },
  "vscode": {
   "interpreter": {
    "hash": "31f2aee4e71d21fbe5cf8b01ff0e069b9275f58929596ceb00d14d90e3e16cd6"
   }
  }
 },
 "nbformat": 4,
 "nbformat_minor": 5
}
